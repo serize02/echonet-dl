{
 "cells": [
  {
   "cell_type": "code",
   "execution_count": 12,
   "metadata": {},
   "outputs": [],
   "source": [
    "import pandas as pd\n",
    "import matplotlib.pyplot as plt\n",
    "import seaborn as sns\n",
    "from sklearn.metrics import mean_absolute_error as mae"
   ]
  },
  {
   "cell_type": "code",
   "execution_count": 3,
   "metadata": {},
   "outputs": [
    {
     "data": {
      "text/html": [
       "<div>\n",
       "<style scoped>\n",
       "    .dataframe tbody tr th:only-of-type {\n",
       "        vertical-align: middle;\n",
       "    }\n",
       "\n",
       "    .dataframe tbody tr th {\n",
       "        vertical-align: top;\n",
       "    }\n",
       "\n",
       "    .dataframe thead th {\n",
       "        text-align: right;\n",
       "    }\n",
       "</style>\n",
       "<table border=\"1\" class=\"dataframe\">\n",
       "  <thead>\n",
       "    <tr style=\"text-align: right;\">\n",
       "      <th></th>\n",
       "      <th>filename</th>\n",
       "      <th>split</th>\n",
       "      <th>true_ef</th>\n",
       "      <th>predicted_ef</th>\n",
       "      <th>volume_ratio</th>\n",
       "      <th>length_ratio</th>\n",
       "      <th>predicted_bias</th>\n",
       "    </tr>\n",
       "  </thead>\n",
       "  <tbody>\n",
       "    <tr>\n",
       "      <th>0</th>\n",
       "      <td>0X100009310A3BD7FC</td>\n",
       "      <td>VAL</td>\n",
       "      <td>78.498406</td>\n",
       "      <td>69.549178</td>\n",
       "      <td>0.304508</td>\n",
       "      <td>0.698130</td>\n",
       "      <td>-4.104788</td>\n",
       "    </tr>\n",
       "    <tr>\n",
       "      <th>1</th>\n",
       "      <td>0X1002E8FBACD08477</td>\n",
       "      <td>TRAIN</td>\n",
       "      <td>59.101988</td>\n",
       "      <td>69.904645</td>\n",
       "      <td>0.300954</td>\n",
       "      <td>0.661719</td>\n",
       "      <td>-4.055934</td>\n",
       "    </tr>\n",
       "    <tr>\n",
       "      <th>2</th>\n",
       "      <td>0X1005D03EED19C65B</td>\n",
       "      <td>TRAIN</td>\n",
       "      <td>62.363798</td>\n",
       "      <td>99.097760</td>\n",
       "      <td>0.009022</td>\n",
       "      <td>0.197455</td>\n",
       "      <td>-16.145502</td>\n",
       "    </tr>\n",
       "    <tr>\n",
       "      <th>3</th>\n",
       "      <td>0X10075961BC11C88E</td>\n",
       "      <td>TRAIN</td>\n",
       "      <td>54.545097</td>\n",
       "      <td>44.498403</td>\n",
       "      <td>0.555016</td>\n",
       "      <td>0.845431</td>\n",
       "      <td>-5.843878</td>\n",
       "    </tr>\n",
       "    <tr>\n",
       "      <th>4</th>\n",
       "      <td>0X100CF05D141FF143</td>\n",
       "      <td>TEST</td>\n",
       "      <td>55.951790</td>\n",
       "      <td>61.644817</td>\n",
       "      <td>0.383552</td>\n",
       "      <td>0.771007</td>\n",
       "      <td>1.343331</td>\n",
       "    </tr>\n",
       "  </tbody>\n",
       "</table>\n",
       "</div>"
      ],
      "text/plain": [
       "             filename  split    true_ef  predicted_ef  volume_ratio  \\\n",
       "0  0X100009310A3BD7FC    VAL  78.498406     69.549178      0.304508   \n",
       "1  0X1002E8FBACD08477  TRAIN  59.101988     69.904645      0.300954   \n",
       "2  0X1005D03EED19C65B  TRAIN  62.363798     99.097760      0.009022   \n",
       "3  0X10075961BC11C88E  TRAIN  54.545097     44.498403      0.555016   \n",
       "4  0X100CF05D141FF143   TEST  55.951790     61.644817      0.383552   \n",
       "\n",
       "   length_ratio  predicted_bias  \n",
       "0      0.698130       -4.104788  \n",
       "1      0.661719       -4.055934  \n",
       "2      0.197455      -16.145502  \n",
       "3      0.845431       -5.843878  \n",
       "4      0.771007        1.343331  "
      ]
     },
     "execution_count": 3,
     "metadata": {},
     "output_type": "execute_result"
    }
   ],
   "source": [
    "df = pd.read_csv('data/dynamic_inference.csv')\n",
    "df.head()"
   ]
  },
  {
   "cell_type": "code",
   "execution_count": 5,
   "metadata": {},
   "outputs": [
    {
     "data": {
      "text/plain": [
       "8.945637309898348"
      ]
     },
     "execution_count": 5,
     "metadata": {},
     "output_type": "execute_result"
    }
   ],
   "source": [
    "mae(df['true_ef'], df['predicted_ef'])"
   ]
  },
  {
   "cell_type": "code",
   "execution_count": 6,
   "metadata": {},
   "outputs": [
    {
     "data": {
      "text/plain": [
       "7.341081106274759"
      ]
     },
     "execution_count": 6,
     "metadata": {},
     "output_type": "execute_result"
    }
   ],
   "source": [
    "mae(df['true_ef'], df['predicted_ef'] + df['predicted_bias'])"
   ]
  }
 ],
 "metadata": {
  "kernelspec": {
   "display_name": "base",
   "language": "python",
   "name": "python3"
  },
  "language_info": {
   "codemirror_mode": {
    "name": "ipython",
    "version": 3
   },
   "file_extension": ".py",
   "mimetype": "text/x-python",
   "name": "python",
   "nbconvert_exporter": "python",
   "pygments_lexer": "ipython3",
   "version": "3.12.7"
  }
 },
 "nbformat": 4,
 "nbformat_minor": 2
}
