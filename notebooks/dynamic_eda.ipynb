{
 "cells": [
  {
   "cell_type": "code",
   "execution_count": 1,
   "metadata": {},
   "outputs": [],
   "source": [
    "import os\n",
    "os.chdir('../')\n",
    "\n",
    "import numpy as np\n",
    "import pandas as pd\n",
    "import matplotlib.pyplot as plt\n",
    "import seaborn as sns\n",
    "\n",
    "from sklearn.metrics import mean_absolute_error\n"
   ]
  },
  {
   "cell_type": "code",
   "execution_count": 2,
   "metadata": {},
   "outputs": [
    {
     "data": {
      "text/html": [
       "<div>\n",
       "<style scoped>\n",
       "    .dataframe tbody tr th:only-of-type {\n",
       "        vertical-align: middle;\n",
       "    }\n",
       "\n",
       "    .dataframe tbody tr th {\n",
       "        vertical-align: top;\n",
       "    }\n",
       "\n",
       "    .dataframe thead th {\n",
       "        text-align: right;\n",
       "    }\n",
       "</style>\n",
       "<table border=\"1\" class=\"dataframe\">\n",
       "  <thead>\n",
       "    <tr style=\"text-align: right;\">\n",
       "      <th></th>\n",
       "      <th>EF</th>\n",
       "      <th>ESV</th>\n",
       "      <th>EDV</th>\n",
       "      <th>FrameHeight</th>\n",
       "      <th>FrameWidth</th>\n",
       "      <th>FPS</th>\n",
       "      <th>NumberOfFrames</th>\n",
       "    </tr>\n",
       "  </thead>\n",
       "  <tbody>\n",
       "    <tr>\n",
       "      <th>count</th>\n",
       "      <td>10030.000000</td>\n",
       "      <td>10030.000000</td>\n",
       "      <td>10030.000000</td>\n",
       "      <td>10030.000000</td>\n",
       "      <td>10030.000000</td>\n",
       "      <td>10030.000000</td>\n",
       "      <td>10030.000000</td>\n",
       "    </tr>\n",
       "    <tr>\n",
       "      <th>mean</th>\n",
       "      <td>55.748248</td>\n",
       "      <td>43.427433</td>\n",
       "      <td>91.324572</td>\n",
       "      <td>112.392423</td>\n",
       "      <td>112.547159</td>\n",
       "      <td>51.077767</td>\n",
       "      <td>176.533998</td>\n",
       "    </tr>\n",
       "    <tr>\n",
       "      <th>std</th>\n",
       "      <td>12.371483</td>\n",
       "      <td>35.828098</td>\n",
       "      <td>45.663554</td>\n",
       "      <td>16.040604</td>\n",
       "      <td>22.366033</td>\n",
       "      <td>6.238707</td>\n",
       "      <td>57.879145</td>\n",
       "    </tr>\n",
       "    <tr>\n",
       "      <th>min</th>\n",
       "      <td>6.907258</td>\n",
       "      <td>4.350710</td>\n",
       "      <td>12.618671</td>\n",
       "      <td>112.000000</td>\n",
       "      <td>112.000000</td>\n",
       "      <td>18.000000</td>\n",
       "      <td>28.000000</td>\n",
       "    </tr>\n",
       "    <tr>\n",
       "      <th>25%</th>\n",
       "      <td>51.601387</td>\n",
       "      <td>23.686339</td>\n",
       "      <td>62.166669</td>\n",
       "      <td>112.000000</td>\n",
       "      <td>112.000000</td>\n",
       "      <td>50.000000</td>\n",
       "      <td>144.000000</td>\n",
       "    </tr>\n",
       "    <tr>\n",
       "      <th>50%</th>\n",
       "      <td>59.209109</td>\n",
       "      <td>33.596750</td>\n",
       "      <td>82.084190</td>\n",
       "      <td>112.000000</td>\n",
       "      <td>112.000000</td>\n",
       "      <td>50.000000</td>\n",
       "      <td>171.000000</td>\n",
       "    </tr>\n",
       "    <tr>\n",
       "      <th>75%</th>\n",
       "      <td>63.958740</td>\n",
       "      <td>49.107316</td>\n",
       "      <td>108.288686</td>\n",
       "      <td>112.000000</td>\n",
       "      <td>112.000000</td>\n",
       "      <td>50.000000</td>\n",
       "      <td>201.000000</td>\n",
       "    </tr>\n",
       "    <tr>\n",
       "      <th>max</th>\n",
       "      <td>96.967237</td>\n",
       "      <td>612.489815</td>\n",
       "      <td>695.036025</td>\n",
       "      <td>768.000000</td>\n",
       "      <td>1040.000000</td>\n",
       "      <td>138.000000</td>\n",
       "      <td>1002.000000</td>\n",
       "    </tr>\n",
       "  </tbody>\n",
       "</table>\n",
       "</div>"
      ],
      "text/plain": [
       "                 EF           ESV           EDV   FrameHeight    FrameWidth  \\\n",
       "count  10030.000000  10030.000000  10030.000000  10030.000000  10030.000000   \n",
       "mean      55.748248     43.427433     91.324572    112.392423    112.547159   \n",
       "std       12.371483     35.828098     45.663554     16.040604     22.366033   \n",
       "min        6.907258      4.350710     12.618671    112.000000    112.000000   \n",
       "25%       51.601387     23.686339     62.166669    112.000000    112.000000   \n",
       "50%       59.209109     33.596750     82.084190    112.000000    112.000000   \n",
       "75%       63.958740     49.107316    108.288686    112.000000    112.000000   \n",
       "max       96.967237    612.489815    695.036025    768.000000   1040.000000   \n",
       "\n",
       "                FPS  NumberOfFrames  \n",
       "count  10030.000000    10030.000000  \n",
       "mean      51.077767      176.533998  \n",
       "std        6.238707       57.879145  \n",
       "min       18.000000       28.000000  \n",
       "25%       50.000000      144.000000  \n",
       "50%       50.000000      171.000000  \n",
       "75%       50.000000      201.000000  \n",
       "max      138.000000     1002.000000  "
      ]
     },
     "execution_count": 2,
     "metadata": {},
     "output_type": "execute_result"
    }
   ],
   "source": [
    "data = pd.read_csv('data/dynamic-annot/FileList.csv')\n",
    "data.describe()"
   ]
  },
  {
   "cell_type": "code",
   "execution_count": 3,
   "metadata": {},
   "outputs": [
    {
     "data": {
      "text/plain": [
       "Split\n",
       "TRAIN    7465\n",
       "VAL      1288\n",
       "TEST     1277\n",
       "Name: count, dtype: int64"
      ]
     },
     "execution_count": 3,
     "metadata": {},
     "output_type": "execute_result"
    }
   ],
   "source": [
    "data['Split'].value_counts()"
   ]
  },
  {
   "cell_type": "code",
   "execution_count": 4,
   "metadata": {},
   "outputs": [
    {
     "data": {
      "text/plain": [
       "Text(0, 0.5, 'Frequency')"
      ]
     },
     "execution_count": 4,
     "metadata": {},
     "output_type": "execute_result"
    },
    {
     "data": {
      "image/png": "[encoded data removed]",
      "text/plain": [
       "<Figure size 640x480 with 1 Axes>"
      ]
     },
     "metadata": {},
     "output_type": "display_data"
    }
   ],
   "source": [
    "df = data[ data['Split'] == 'TEST']\n",
    "\n",
    "sns.histplot(df['EF'])\n",
    "plt.ylabel('Frequency')"
   ]
  },
  {
   "cell_type": "markdown",
   "metadata": {},
   "source": [
    "### Inference MAE"
   ]
  },
  {
   "cell_type": "code",
   "execution_count": 9,
   "metadata": {},
   "outputs": [],
   "source": [
    "df = pd.read_csv('dynamic.csv')"
   ]
  },
  {
   "cell_type": "code",
   "execution_count": 10,
   "metadata": {},
   "outputs": [
    {
     "data": {
      "text/plain": [
       "9.537782924544132"
      ]
     },
     "execution_count": 10,
     "metadata": {},
     "output_type": "execute_result"
    }
   ],
   "source": [
    "mean_absolute_error(dy['true_ef'], dy['predicted_ef'])"
   ]
  },
  {
   "cell_type": "code",
   "execution_count": 11,
   "metadata": {},
   "outputs": [
    {
     "data": {
      "text/plain": [
       "7.33980308291445"
      ]
     },
     "execution_count": 11,
     "metadata": {},
     "output_type": "execute_result"
    }
   ],
   "source": [
    "mean_absolute_error(dy['true_ef'], dy['predicted_ef'] + dy['predicted_bias'])"
   ]
  }
 ],
 "metadata": {
  "kernelspec": {
   "display_name": "base",
   "language": "python",
   "name": "python3"
  },
  "language_info": {
   "codemirror_mode": {
    "name": "ipython",
    "version": 3
   },
   "file_extension": ".py",
   "mimetype": "text/x-python",
   "name": "python",
   "nbconvert_exporter": "python",
   "pygments_lexer": "ipython3",
   "version": "3.12.7"
  }
 },
 "nbformat": 4,
 "nbformat_minor": 2
}
