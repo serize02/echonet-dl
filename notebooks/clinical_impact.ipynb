{
 "cells": [
  {
   "cell_type": "code",
   "execution_count": 2,
   "id": "2b9f80d4",
   "metadata": {},
   "outputs": [],
   "source": [
    "import os\n",
    "os.chdir('../')\n",
    "\n",
    "import numpy as np\n",
    "import pandas as pd\n",
    "import matplotlib.pyplot as plt\n",
    "import seaborn as sns\n",
    "\n",
    "sns.set(style='white')\n",
    "\n",
    "from scipy.stats import pearsonr, spearmanr, zscore\n",
    "from sklearn.metrics import mean_absolute_error, mean_squared_error, r2_score\n",
    "from sklearn.preprocessing import StandardScaler\n",
    "from sklearn.feature_selection import SelectKBest, f_regression, mutual_info_regression\n",
    "from sklearn.model_selection import train_test_split\n",
    "from sklearn.linear_model import LinearRegression\n",
    "from sklearn.ensemble import RandomForestRegressor, GradientBoostingRegressor\n",
    "from sklearn.svm import SVR\n",
    "from sklearn.neighbors import KNeighborsRegressor\n",
    "from sklearn.tree import DecisionTreeRegressor\n",
    "from sklearn.model_selection import GridSearchCV"
   ]
  },
  {
   "cell_type": "code",
   "execution_count": 3,
   "id": "0cd9eb0a",
   "metadata": {},
   "outputs": [],
   "source": [
    "data = pd.read_csv('inference_feat.csv')\n",
    "data['error'] = data['true_ef'] - data['predicted_ef']\n",
    "\n",
    "df = data[(data['split'] == 'TRAIN') | (data['split'] == 'VAL')]\n",
    "test = data[ data['split'] == 'TEST' ]"
   ]
  },
  {
   "cell_type": "code",
   "execution_count": 4,
   "id": "4ce33279",
   "metadata": {},
   "outputs": [],
   "source": [
    "z = np.abs(zscore(df['error']))\n",
    "filtered_df = df[(z < 2)]"
   ]
  },
  {
   "cell_type": "code",
   "execution_count": 5,
   "id": "8e48dccc",
   "metadata": {},
   "outputs": [],
   "source": [
    "df = filtered_df"
   ]
  },
  {
   "cell_type": "code",
   "execution_count": 6,
   "id": "1be3e367",
   "metadata": {},
   "outputs": [],
   "source": [
    "df.drop(columns=['filename', 'split', 'true_ef', 'predicted_ef'], inplace=True)\n",
    "\n",
    "X, y = df.drop('error', axis=1), df['error']"
   ]
  },
  {
   "cell_type": "code",
   "execution_count": 7,
   "id": "f5562e2c",
   "metadata": {},
   "outputs": [],
   "source": [
    "features = ['volume_ratio', 'length_ratio', 'dice_overlap_std']"
   ]
  },
  {
   "cell_type": "code",
   "execution_count": 8,
   "id": "e84609af",
   "metadata": {},
   "outputs": [],
   "source": [
    "X_train, X_test, y_train, y_test = train_test_split(X[features], y, test_size=0.2, random_state=42)"
   ]
  },
  {
   "cell_type": "code",
   "execution_count": 9,
   "id": "a008d2c3",
   "metadata": {},
   "outputs": [],
   "source": [
    "reg = GradientBoostingRegressor(learning_rate=0.01, max_depth=4, n_estimators=200, random_state=1)\n",
    "reg.fit(X[features], y)\n",
    "\n",
    "X_test = test[features]\n",
    "y_test = test['error']\n",
    "\n",
    "y_pred = reg.predict(X_test)"
   ]
  },
  {
   "cell_type": "code",
   "execution_count": 10,
   "id": "27e2e7ca",
   "metadata": {},
   "outputs": [],
   "source": [
    "test = data[data['split'] == 'TEST'].copy()\n",
    "test.loc[:, 'corrected_ef'] = test['predicted_ef'] + y_pred"
   ]
  },
  {
   "cell_type": "markdown",
   "id": "f63a9802",
   "metadata": {},
   "source": [
    "LVEF values categorized according to American Heart Association\n",
    "- Normal EF: Typically 55%–75%.\n",
    "- Heart Failure with Preserved Ejection Fraction (HFpEF): LVEF >= 50%.\n",
    "- Heart Failure with Mildly Reduced Ejection Fraction (HFmrEF): LVEF 41%–49%.\n",
    "- Heart Failure with Reduced Ejection Fraction (HFrEF): LVEF <= 40%.\n",
    "- Hypertrophic Cardiomyopathy: LVEF > 75% could indicate this condition."
   ]
  },
  {
   "cell_type": "code",
   "execution_count": 11,
   "id": "a70d97f9",
   "metadata": {},
   "outputs": [],
   "source": [
    "def clasif_ef(ef):\n",
    "    if ef > 75:\n",
    "        return \"Hypertrophic CM\"\n",
    "    elif ef >= 55:\n",
    "        return \"Normal EF\"\n",
    "    elif ef >= 50:\n",
    "        return \"HFpEF\"\n",
    "    elif ef >= 41:\n",
    "        return \"HFmrEF\"\n",
    "    else:\n",
    "        return \"HFrEF\""
   ]
  },
  {
   "cell_type": "code",
   "execution_count": 18,
   "id": "5c762ac4",
   "metadata": {},
   "outputs": [],
   "source": [
    "test['true_ef'] = test['true_ef'].round().astype(int)\n",
    "test['predicted_ef'] = test['predicted_ef'].round().astype(int)\n",
    "test['corrected_ef'] = test['corrected_ef'].round().astype(int)\n",
    "\n",
    "\n",
    "test['clasif_true'] = test['true_ef'].apply(clasif_ef)\n",
    "test['clasif_orig'] = test['predicted_ef'].apply(clasif_ef)\n",
    "test['clasif_corr'] = test['corrected_ef'].apply(clasif_ef)\n"
   ]
  },
  {
   "cell_type": "code",
   "execution_count": 19,
   "id": "92463d45",
   "metadata": {},
   "outputs": [],
   "source": [
    "from sklearn.metrics import confusion_matrix, precision_score, recall_score, f1_score, accuracy_score\n",
    "\n",
    "def threshold_analysis(true_ef, predicted_ef, threshold, condition=\">\"):\n",
    "\n",
    "    true_bin = (true_ef > threshold) if condition == \">\" else (true_ef <= threshold)\n",
    "    pred_bin = (predicted_ef > threshold) if condition == \">\" else (predicted_ef <= threshold)\n",
    "    \n",
    "    tn, fp, fn, tp = confusion_matrix(true_bin, pred_bin).ravel()\n",
    "    \n",
    "    precision = precision_score(true_bin, pred_bin, zero_division=0)\n",
    "    recall = recall_score(true_bin, pred_bin, zero_division=0)\n",
    "    specificity = tn / (tn + fp) if (tn + fp) > 0 else 0\n",
    "    \n",
    "    return {\n",
    "        'sensitivity': recall,\n",
    "        'specificity': specificity,\n",
    "        'precision': precision,\n",
    "        'f1_score': f1_score(true_bin, pred_bin, zero_division=0),\n",
    "        'true_positives': tp,\n",
    "        'true_negatives': tn,\n",
    "        'false_positives': fp,\n",
    "        'false_negatives': fn\n",
    "    }\n",
    "\n",
    "thresholds = {\n",
    "    \"HFrEF (≤40%)\": {\"threshold\": 40, \"condition\": \"<=\"},\n",
    "    \"HFmrEF (41-49%)\": {\"threshold\": (41, 49), \"type\": \"range\"},\n",
    "    \"HFpEF (≥50%)\": {\"threshold\": 50, \"condition\": \">\"},\n",
    "    \"Normal EF (≥55%)\": {\"threshold\": 55, \"condition\": \">\"},\n",
    "    \"Hypertrophic CM (>75%)\": {\"threshold\": 75, \"condition\": \">\"}\n",
    "}"
   ]
  },
  {
   "cell_type": "code",
   "execution_count": 20,
   "id": "8111b86a",
   "metadata": {},
   "outputs": [],
   "source": [
    "def HFmrEF(ef_real, ef_pred):\n",
    "\n",
    "    true_bin = ((ef_real >= 41) & (ef_real <= 49)).astype(int)\n",
    "    pred_bin = ((ef_pred >= 41) & (ef_pred <= 49)).astype(int)\n",
    "    \n",
    "    tn, fp, fn, tp = confusion_matrix(true_bin, pred_bin).ravel()\n",
    "    precision = precision_score(true_bin, pred_bin, zero_division=0)\n",
    "    recall = recall_score(true_bin, pred_bin, zero_division=0)\n",
    "    specificity = tn / (tn + fp) if (tn + fp) > 0 else 0\n",
    "    \n",
    "    \n",
    "    return {\n",
    "        'sensitivity': recall,\n",
    "        'specificity': specificity,\n",
    "        'precision': precision,\n",
    "        'f1_score': f1_score(true_bin, pred_bin, zero_division=0),\n",
    "        'true_positives': tp,\n",
    "        'true_negatives': tn,\n",
    "        'false_positives': fp,\n",
    "        'false_negatives': fn\n",
    "    }"
   ]
  },
  {
   "cell_type": "code",
   "execution_count": 21,
   "id": "1fa61092",
   "metadata": {},
   "outputs": [],
   "source": [
    "results = {}\n",
    "\n",
    "for name, params in thresholds.items():\n",
    "    if \"HFmrEF\" in name:\n",
    "        orig = HFmrEF(test['true_ef'], test['predicted_ef'])\n",
    "        corr = HFmrEF(test['true_ef'], test['corrected_ef'])\n",
    "    else:\n",
    "        orig = threshold_analysis(test['true_ef'], test['predicted_ef'], params[\"threshold\"], params[\"condition\"])\n",
    "        corr = threshold_analysis(test['true_ef'], test['corrected_ef'], params[\"threshold\"], params[\"condition\"])\n",
    "    \n",
    "    results[name] = {'original': orig, 'corrected': corr}"
   ]
  },
  {
   "cell_type": "code",
   "execution_count": 22,
   "id": "207502c5",
   "metadata": {},
   "outputs": [],
   "source": [
    "from sklearn.metrics import classification_report, cohen_kappa_score\n",
    "\n",
    "cm_orig = confusion_matrix(test['clasif_true'], test['clasif_orig'])\n",
    "cm_corr = confusion_matrix(test['clasif_true'], test['clasif_corr'])\n",
    "\n",
    "accuracy_orig = accuracy_score(test['clasif_true'], test['clasif_orig'])\n",
    "accuracy_corr = accuracy_score(test['clasif_true'], test['clasif_corr'])\n",
    "kappa_orig = cohen_kappa_score(test['clasif_true'], test['clasif_orig'])\n",
    "kappa_corr = cohen_kappa_score(test['clasif_true'], test['clasif_corr'])\n",
    "\n",
    "report_orig = classification_report(test['clasif_true'], test['clasif_orig'], zero_division=1)\n",
    "report_corr = classification_report(test['clasif_true'], test['clasif_corr'], zero_division=1)"
   ]
  }
 ],
 "metadata": {
  "kernelspec": {
   "display_name": "base",
   "language": "python",
   "name": "python3"
  },
  "language_info": {
   "codemirror_mode": {
    "name": "ipython",
    "version": 3
   },
   "file_extension": ".py",
   "mimetype": "text/x-python",
   "name": "python",
   "nbconvert_exporter": "python",
   "pygments_lexer": "ipython3",
   "version": "3.12.7"
  }
 },
 "nbformat": 4,
 "nbformat_minor": 5
}
